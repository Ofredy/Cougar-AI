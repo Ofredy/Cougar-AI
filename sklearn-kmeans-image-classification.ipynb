{
 "cells": [
  {
   "cell_type": "code",
   "execution_count": 1,
   "id": "9f1cd88c",
   "metadata": {},
   "outputs": [],
   "source": [
    "%matplotlib inline\n",
    "from sklearn.datasets import load_digits\n",
    "mnist = load_digits()"
   ]
  },
  {
   "cell_type": "code",
   "execution_count": 2,
   "id": "dba24056",
   "metadata": {},
   "outputs": [],
   "source": [
    "from sklearn.model_selection import train_test_split\n",
    "\n",
    "train_img, test_img, train_lbl, test_lbl = train_test_split(\n",
    "    mnist.data, mnist.target, test_size=1/7.0, random_state=0)"
   ]
  },
  {
   "cell_type": "code",
   "execution_count": 3,
   "id": "160adae7",
   "metadata": {},
   "outputs": [
    {
     "data": {
      "image/png": "[encoded data removed]",
      "text/plain": [
       "<Figure size 1440x288 with 5 Axes>"
      ]
     },
     "metadata": {
      "needs_background": "light"
     },
     "output_type": "display_data"
    }
   ],
   "source": [
    "import numpy as np\n",
    "import matplotlib.pyplot as plt\n",
    "\n",
    "\n",
    "plt.figure(figsize=(20,4))\n",
    "for index, (image, label) in enumerate(zip(train_img[0:5], train_lbl[0:5])):\n",
    "    plt.subplot(1, 5, index + 1)\n",
    "    plt.imshow(np.reshape(image, (8,8)), cmap=plt.cm.gray)\n",
    "    plt.title('Training: %i\\n' % label, fontsize = 20)"
   ]
  },
  {
   "cell_type": "code",
   "execution_count": 4,
   "id": "c4b6e14d",
   "metadata": {},
   "outputs": [
    {
     "data": {
      "text/plain": [
       "KMeans(n_clusters=10)"
      ]
     },
     "execution_count": 4,
     "metadata": {},
     "output_type": "execute_result"
    }
   ],
   "source": [
    "from sklearn.cluster import KMeans\n",
    "\n",
    "# Determining the number of clusters needed\n",
    "total_clusters = len(np.unique(train_lbl))\n",
    "\n",
    "kmeans = KMeans(n_clusters=total_clusters)\n",
    "kmeans.fit(train_img)"
   ]
  },
  {
   "cell_type": "code",
   "execution_count": 5,
   "id": "3783ce2a",
   "metadata": {},
   "outputs": [],
   "source": [
    "# Now we determine the cluster labels and what number they correspond to:\n",
    "def retreive_info(cluster_labels, y_train):\n",
    "    reference_labels = {}\n",
    "    \n",
    "    for i in range(len(np.unique(cluster_labels))):\n",
    "        index = np.where(cluster_labels == i,1,0)\n",
    "        num = np.bincount(y_train[index==1]).argmax()\n",
    "        reference_labels[i] = num\n",
    "    \n",
    "    return reference_labels"
   ]
  },
  {
   "cell_type": "code",
   "execution_count": 6,
   "id": "49c900c6",
   "metadata": {},
   "outputs": [
    {
     "name": "stdout",
     "output_type": "stream",
     "text": [
      "{0: 2, 1: 5, 2: 9, 3: 4, 4: 6, 5: 3, 6: 0, 7: 1, 8: 7, 9: 1}\n"
     ]
    }
   ],
   "source": [
    "labels = retreive_info(kmeans.labels_, train_lbl)\n",
    "print(labels)"
   ]
  },
  {
   "cell_type": "code",
   "execution_count": 7,
   "id": "4d1db1ee",
   "metadata": {},
   "outputs": [
    {
     "name": "stdout",
     "output_type": "stream",
     "text": [
      "[5 7 0 9 2 6 5 9 7 4 3 9 0 3 6 4 6 3 2 6]\n",
      "[5 7 0 9 1 6 5 9 7 4 3 8 0 3 6 4 6 3 2 6]\n"
     ]
    }
   ],
   "source": [
    "# converting the cluster labels to the actual labels\n",
    "number_labels = np.random.rand(len(kmeans.labels_))\n",
    "for i in range (len(kmeans.labels_)):\n",
    "    number_labels[i] = labels[kmeans.labels_[i]]\n",
    "    \n",
    "print(number_labels[:20].astype('int'))\n",
    "print(train_lbl[:20])"
   ]
  },
  {
   "cell_type": "code",
   "execution_count": 8,
   "id": "fec3ebd9",
   "metadata": {},
   "outputs": [
    {
     "name": "stdout",
     "output_type": "stream",
     "text": [
      "0.7935064935064935\n"
     ]
    }
   ],
   "source": [
    "# checking the accuracy of the model\n",
    "from sklearn.metrics import accuracy_score\n",
    "print(accuracy_score(number_labels, train_lbl))"
   ]
  },
  {
   "cell_type": "code",
   "execution_count": 9,
   "id": "80929bb9",
   "metadata": {},
   "outputs": [
    {
     "data": {
      "text/plain": [
       "KMeans(n_clusters=100)"
      ]
     },
     "execution_count": 9,
     "metadata": {},
     "output_type": "execute_result"
    }
   ],
   "source": [
    "# we will improve the accuracy by increasing the number of clusters in the kmeans algorithm\n",
    "\n",
    "# will try different number of clusters:\n",
    "# for 10, got an accuracy of 0.7782101167315175\n",
    "# for 100, got an accuracy of 0.9727626459143969\n",
    "# for 256, got an accuracy of 0.980544747081712\n",
    "# for 400, got an accuracy of 0.9844357976653697\n",
    "# for 500, got an accuracy of 0.9883268482490273\n",
    "# for 1000, got an accuracy of 0.9883268482490273\n",
    "\n",
    "kmeans2 = KMeans(n_clusters=100)\n",
    "kmeans2.fit(train_img)"
   ]
  },
  {
   "cell_type": "code",
   "execution_count": 10,
   "id": "7015d007",
   "metadata": {},
   "outputs": [],
   "source": [
    "labels = retreive_info(kmeans2.labels_, train_lbl)"
   ]
  },
  {
   "cell_type": "code",
   "execution_count": 11,
   "id": "cf0e9d96",
   "metadata": {},
   "outputs": [
    {
     "name": "stdout",
     "output_type": "stream",
     "text": [
      "[5 7 0 9 1 6 5 9 7 4 3 8 0 3 6 4 6 3 2 6]\n",
      "[5 7 0 9 1 6 5 9 7 4 3 8 0 3 6 4 6 3 2 6]\n"
     ]
    }
   ],
   "source": [
    "number_labels = np.random.rand(len(kmeans2.labels_))\n",
    "for i in range (len(kmeans2.labels_)):\n",
    "    number_labels[i] = labels[kmeans2.labels_[i]]\n",
    "    \n",
    "print(number_labels[:20].astype('int'))\n",
    "print(train_lbl[:20])"
   ]
  },
  {
   "cell_type": "code",
   "execution_count": 12,
   "id": "4911e05f",
   "metadata": {},
   "outputs": [
    {
     "name": "stdout",
     "output_type": "stream",
     "text": [
      "0.974025974025974\n"
     ]
    }
   ],
   "source": [
    "# accuracy on training data\n",
    "print(accuracy_score(number_labels, train_lbl))"
   ]
  },
  {
   "cell_type": "code",
   "execution_count": 13,
   "id": "ddf66680",
   "metadata": {},
   "outputs": [
    {
     "name": "stdout",
     "output_type": "stream",
     "text": [
      "0.9727626459143969\n"
     ]
    }
   ],
   "source": [
    "# now we test accuracy on test images\n",
    "predictions = kmeans2.predict(test_img)\n",
    "\n",
    "# we convert the cluster value into the corresponding digit\n",
    "for i in range (len(predictions)):\n",
    "    predictions[i] = labels[predictions[i]]\n",
    "    \n",
    "print(accuracy_score(predictions, test_lbl))"
   ]
  }
 ],
 "metadata": {
  "kernelspec": {
   "display_name": "Python 3 (ipykernel)",
   "language": "python",
   "name": "python3"
  },
  "language_info": {
   "codemirror_mode": {
    "name": "ipython",
    "version": 3
   },
   "file_extension": ".py",
   "mimetype": "text/x-python",
   "name": "python",
   "nbconvert_exporter": "python",
   "pygments_lexer": "ipython3",
   "version": "3.9.12"
  }
 },
 "nbformat": 4,
 "nbformat_minor": 5
}
